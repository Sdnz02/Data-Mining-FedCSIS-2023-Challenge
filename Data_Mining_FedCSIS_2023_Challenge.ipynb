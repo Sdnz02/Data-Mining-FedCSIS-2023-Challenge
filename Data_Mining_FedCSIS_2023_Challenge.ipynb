{
  "cells": [
    {
      "cell_type": "code",
      "execution_count": null,
      "metadata": {
        "id": "xsAAvv1fQaXJ"
      },
      "outputs": [],
      "source": [
        "import os\n",
        "import zipfile\n",
        "import pandas as pd\n",
        "from google.colab import drive"
      ]
    },
    {
      "cell_type": "markdown",
      "metadata": {
        "id": "hAOKVrGoWHtR"
      },
      "source": [
        "# **Data Loading**"
      ]
    },
    {
      "cell_type": "markdown",
      "metadata": {
        "id": "KUlqfjhLRxOl"
      },
      "source": [
        "## **Read train_data**"
      ]
    },
    {
      "cell_type": "code",
      "execution_count": null,
      "metadata": {
        "id": "4plEv12FQaaw"
      },
      "outputs": [],
      "source": [
        "def read_csv_files_from_zip(zip_file_path):\n",
        "    # Empty list to store tuples (DataFrame, file name)\n",
        "    dfs = []\n",
        "\n",
        "    # Mount Google Drive\n",
        "    drive.mount('/content/drive')\n",
        "\n",
        "    # ZIP file path in Google Drive\n",
        "    zip_file_path_drive = '/content/drive/MyDrive/' + zip_file_path\n",
        "\n",
        "    # Open the ZIP file\n",
        "    with zipfile.ZipFile(zip_file_path_drive, 'r') as zip_ref:\n",
        "        # Iterate over each file in the ZIP file\n",
        "        for file_name in zip_ref.namelist():\n",
        "            # Read the CSV file\n",
        "            with zip_ref.open(file_name) as file:\n",
        "                # Load into a DataFrame\n",
        "                df = pd.read_csv(file)\n",
        "                # Add DataFrame and file name as a tuple to the list\n",
        "                dfs.append((df, file_name))\n",
        "\n",
        "    return dfs"
      ]
    },
    {
      "cell_type": "code",
      "execution_count": null,
      "metadata": {
        "colab": {
          "base_uri": "https://localhost:8080/"
        },
        "id": "uWo-cCfoQadN",
        "outputId": "80adaf38-d324-40d3-d200-fa348b10d7ce"
      },
      "outputs": [
        {
          "output_type": "stream",
          "name": "stdout",
          "text": [
            "Drive already mounted at /content/drive; to attempt to forcibly remount, call drive.mount(\"/content/drive\", force_remount=True).\n"
          ]
        },
        {
          "output_type": "stream",
          "name": "stderr",
          "text": [
            "<ipython-input-2-1a3aad1d290d>:18: DtypeWarning: Columns (33,34,35,36) have mixed types. Specify dtype option on import or set low_memory=False.\n",
            "  df = pd.read_csv(file)\n",
            "<ipython-input-2-1a3aad1d290d>:18: DtypeWarning: Columns (33,34,35,36) have mixed types. Specify dtype option on import or set low_memory=False.\n",
            "  df = pd.read_csv(file)\n",
            "<ipython-input-2-1a3aad1d290d>:18: DtypeWarning: Columns (33,34,35,36) have mixed types. Specify dtype option on import or set low_memory=False.\n",
            "  df = pd.read_csv(file)\n"
          ]
        }
      ],
      "source": [
        "# ZIP file path in Google Drive\n",
        "zip_file_path_drive = 'DataSource/train_data.zip'\n",
        "\n",
        "# Read CSV files\n",
        "dataframes = read_csv_files_from_zip(zip_file_path_drive)"
      ]
    },
    {
      "cell_type": "code",
      "execution_count": null,
      "metadata": {
        "colab": {
          "base_uri": "https://localhost:8080/"
        },
        "id": "qd1flh6FSPK-",
        "outputId": "5c36c326-ea65-48c3-b7f0-5844e4af8360"
      },
      "outputs": [
        {
          "output_type": "stream",
          "name": "stdout",
          "text": [
            "First CSV File Name: train_data/00033604-f1a5-417c-8928-20dcf9515220.csv\n",
            "Summary of the First CSV File:\n",
            "   SYSCALL_timestamp SYSCALL_arch SYSCALL_syscall SYSCALL_success  \\\n",
            "0                  0      aarch64            mmap             yes   \n",
            "1                  0      aarch64           clone             yes   \n",
            "2                  0      aarch64          munmap             yes   \n",
            "3                  0      aarch64           close             yes   \n",
            "4                  0      aarch64          execve             yes   \n",
            "\n",
            "   SYSCALL_exit PROCESS_comm        PROCESS_exe  \\\n",
            "0  5.481085e+11      apache2  /usr/sbin/apache2   \n",
            "1  6.184840e+05      apache2  /usr/sbin/apache2   \n",
            "2  0.000000e+00      apache2  /usr/sbin/apache2   \n",
            "3  0.000000e+00      apache2  /usr/sbin/apache2   \n",
            "4  0.000000e+00           sh      /usr/bin/dash   \n",
            "\n",
            "                         PROCESS_PATH CUSTOM_openFiles CUSTOM_libs  ...  \\\n",
            "0                    >systemd>apache2               []          []  ...   \n",
            "1                    >systemd>apache2               []          []  ...   \n",
            "2                    >systemd>apache2               []          []  ...   \n",
            "3                    >systemd>apache2               []          []  ...   \n",
            "4  >systemd>apache2>/usr/sbin/apache2               []          []  ...   \n",
            "\n",
            "  RESP_COUNT SELINUX_MGMT_COUNT CUSTOM_openSockets  USER_ACTION_op  \\\n",
            "0          0                  0                 []             NaN   \n",
            "1          0                  0                 []             NaN   \n",
            "2          0                  0                 []             NaN   \n",
            "3          0                  0                 []             NaN   \n",
            "4          0                  0                 []             NaN   \n",
            "\n",
            "   USER_ACTION_src  USER_ACTION_res  USER_ACTION_addr       PROCESS_name  \\\n",
            "0              NaN              NaN               NaN  /usr/sbin/apache2   \n",
            "1              NaN              NaN               NaN  /usr/sbin/apache2   \n",
            "2              NaN              NaN               NaN  /usr/sbin/apache2   \n",
            "3              NaN              NaN               NaN  /usr/sbin/apache2   \n",
            "4              NaN              NaN               NaN      /usr/bin/dash   \n",
            "\n",
            "   KILL_process  KILL_uid  \n",
            "0           NaN       NaN  \n",
            "1           NaN       NaN  \n",
            "2           NaN       NaN  \n",
            "3           NaN       NaN  \n",
            "4           NaN       NaN  \n",
            "\n",
            "[5 rows x 40 columns]\n",
            "Length of train data:  15027\n"
          ]
        }
      ],
      "source": [
        "# Summary and file name of the first CSV file\n",
        "first_df, first_file_name = dataframes[0]\n",
        "print(f\"First CSV File Name: {first_file_name}\")\n",
        "print(\"Summary of the First CSV File:\")\n",
        "print(first_df.head())\n",
        "print(\"Length of train data: \", len(dataframes))"
      ]
    },
    {
      "cell_type": "markdown",
      "metadata": {
        "id": "sIwer3fBR1xu"
      },
      "source": [
        "## **Read attack_log_files**"
      ]
    },
    {
      "cell_type": "code",
      "execution_count": null,
      "metadata": {
        "id": "igNqbDY6QafU"
      },
      "outputs": [],
      "source": [
        "def read_attack_files(attack_files_path):\n",
        "    # Mount Google Drive\n",
        "    drive.mount('/content/drive')\n",
        "\n",
        "    # Attack files path in Google Drive\n",
        "    attack_files_path_drive = '/content/drive/MyDrive/' + attack_files_path\n",
        "\n",
        "    # Read the list of attack files\n",
        "    with open(attack_files_path_drive, 'r') as file:\n",
        "        attack_files = file.read().splitlines()\n",
        "\n",
        "    return attack_files"
      ]
    },
    {
      "cell_type": "code",
      "execution_count": null,
      "metadata": {
        "colab": {
          "base_uri": "https://localhost:8080/"
        },
        "id": "etVmxMOVRmQw",
        "outputId": "22d21445-dd01-4da8-d8b4-8d574d715dd0"
      },
      "outputs": [
        {
          "output_type": "stream",
          "name": "stdout",
          "text": [
            "Drive already mounted at /content/drive; to attempt to forcibly remount, call drive.mount(\"/content/drive\", force_remount=True).\n"
          ]
        }
      ],
      "source": [
        "# ZIP file path in Google Drive\n",
        "attack_files_path = 'DataSource/train_files_containing_attacks.txt'\n",
        "\n",
        "# Read attack log files\n",
        "attack_files = read_attack_files(attack_files_path)"
      ]
    },
    {
      "cell_type": "code",
      "execution_count": null,
      "metadata": {
        "colab": {
          "base_uri": "https://localhost:8080/"
        },
        "id": "JIgyVw_OSm-s",
        "outputId": "26a83f2a-0595-43e6-ff00-4c588efb413d"
      },
      "outputs": [
        {
          "output_type": "stream",
          "name": "stdout",
          "text": [
            "Attack log files:\n",
            "['7e1cd5bf-cbe6-4fe6-a058-d7d6a48cc7a7', '5504d7c4-ae52-42c8-a11f-52c30a6f31af', '85763477-aeeb-4172-b992-c1546ea79df0', '8f03a607-3be1-4672-8e3b-360b67bc98f8', '731be796-6aea-450e-b27b-5b393ae59454', 'fabdc53f-1693-4b94-9307-630dc7637a13', '4ceaea10-740b-4c4f-9fd2-8ac993aa761d', 'dbf60467-8bc9-4e54-a8bb-968564695033', '08794406-035b-45f9-a6d2-6a06c4437f1f', 'a65a1a8a-8542-447c-adf7-6dbebf88827d', '7d999e9a-a22c-49f5-8561-21a197cf0141', '735776a6-d894-4750-9eef-dad852a5c18d', 'de2b8d5e-831f-4db2-af20-91b60cbc5f16', '3545d349-90e7-4f85-85c1-b6060de70628', '677f055c-a236-42be-bd75-3780f6973901', 'a3c9059e-d8c1-4927-8dcb-a31df6c2ee7c', '2c310eb0-92d3-4a36-b75d-116bde0539f6', 'b3f12643-07c5-4236-9223-c22c651a5f5d', '60e0a86d-1854-43fe-8ad6-f1399b2dee5f', '08fd3453-7996-455c-81d4-b5849012b843', '78f3e76e-95ae-4507-bee3-50e5600267e3', '380103e1-1dbc-475e-ab15-f92c8c163402', '21d471f0-3e5a-43f3-b4e9-763d8db0bab0', '24d274f1-27e7-4b14-bf2a-ec6b30f471c4', '287e7ea3-726f-4fcf-820d-c905fd58c80a', '49990a41-10c5-4d96-8d7f-d12b7f93bfbf', '6e49ba5f-1386-4713-a5fd-210d86d4729b', '3518d6fe-e3e4-4f80-9e44-81345aa3e70a', 'f579ce66-62eb-4ccd-b91d-6d800c4d58f8', '83a6d83f-713f-4813-9113-bdf5e81eb088', '5ffe2fb1-effc-4302-b9e5-b515c73dbdbe', '90df9365-0823-49aa-b03f-bcb38e130ebf', 'b7638324-9317-4b20-b642-e1e63f46d1da', '2d2e06b5-6ffa-4d36-9fab-26e732c73147', '643a4fd0-ed16-4575-87a2-248da043b17b', 'aae08cab-b5fe-4fa1-b5a4-aa0e9cab85b4', '7a9ef40f-406f-4ae7-9e5b-42e67fc58610', 'b6d13069-c00e-41a8-b670-020007dd4fdd', 'ed36ac69-3bdb-4e74-ab33-7901ea481264', '2a4e6c9a-b86c-445f-a9c3-d268d3e920c8', '60814a0e-76a6-4901-afcc-82e154ef60e2', '1a507a5a-39b9-462d-8cf9-a26baed3486e', 'c9ab2977-bc8d-4c41-9a88-185fb8a70ae3', '283fa329-9bb5-4b99-b8e0-9dfbcf39a819', '5350d994-1cee-40d0-a85c-90f21978f7a1', 'ac840b13-4942-4ae1-9c1c-1d803a5b408f', '09f1cc09-46f0-48e5-b169-1862999b307b', '772a1f0b-3054-4483-ad1e-1201b1387d8a', '3b2f99e2-e6f9-49ab-82d4-8aa08a33f357', '02d49161-e916-41f2-9b0c-cc21bd8187ec', 'ae33a60a-eb33-47d4-88f9-774a68fedf07', '08e4968d-291e-44d5-ba8c-3eed6143f922', '553e2baa-a205-4356-b2d2-c77594c7d20a', '97382e64-c24d-480c-ab41-fe448443f46d', 'e59f9a09-e234-4df9-9e88-831623e09407', '681e90d2-e199-4385-81dc-447c1fb98a2c', 'bea9f92b-6db0-49e1-994f-5b7906f576a1', '0ab2d47a-18e8-43d4-8a2c-bed74fe01ae2', '47d6890c-6d7b-4770-9d40-40586bb7427c', '05b9f637-2c03-4039-a45e-63f11c4f6af6', '5c86ff36-b9d8-44a4-b8ae-6450b5139b1f', 'c39f20a3-a223-46d9-8fab-ab049b93e512', '2e85aaca-25a2-426a-bdc4-2a03d61af793', '4b012b02-9b9b-4766-aec8-1b54d2912128', 'dcde06d3-1ce6-4462-b375-c8b6fe962da7', '567b252e-59ac-4abe-aeee-a88fac0bd566', 'cd2650d6-c34b-4d4c-b2a1-2896565a2ee5', '7f7b17bb-728e-4376-a5ac-7952083e5099', 'ffe9161f-b74a-49ae-b90e-83817ee7e6a7', 'fe912183-de87-4514-939b-98fb0e8ec3c3', '2dc72e82-be64-47f2-84b9-5821edf5f255', '932b1f28-a80e-4db8-bb30-fedeec58899b', 'f2c5c5f8-7f32-45b6-bda1-541e2528e0ae', '7ffb8e6d-d21d-46a1-9398-af77f47365f4', 'd0c868c5-d30e-432d-9a20-12cd749eb40f', 'fb13bb75-84e5-4880-b9b7-8316df4fa056', 'e4303257-29bb-4d86-9d9f-1d99fdbc05bf', 'c6d6596a-1b51-4dcb-86f9-5213ec8c916f', '68a4853f-ef41-4960-b79a-cd03e7739b29', 'b7494d2c-93aa-4936-84ae-011b300c54a4', '66dea336-5056-41d4-99b9-87290d7607d5', 'fae59260-fe3a-4454-8769-e5e876565392', '71b8144b-4cfc-4443-9bc9-19f5fe4b03c1', '82334878-411e-4a1b-ae8e-e6a915661864', '6032ccec-566e-4cc3-9fb0-d8aea3249b7b', '09e19780-ac09-40ce-b0f5-b9e43416bf48', 'e8466bcb-9a82-4d33-803e-f3d3d9338ee6', '83c15cf1-6abd-4020-8ba0-a3affa925d19', 'ce041b3a-44cd-4adb-a2a9-882fcdef140f', '198055e6-d573-4218-a771-80ca862ea6aa', 'a93e1204-c63b-427d-9315-befa63836cc8', '2eb96a49-7363-42bf-898c-816ef3c5509d', '125a4c21-62b3-4e33-b881-f3696d5078ca', '2b79b740-292b-4ea0-9852-076b11af1857', 'f8eea190-f0c7-4a69-8827-e55ddd1ed4b5', '41574b29-7616-4227-abde-b825e3729646', 'ba21c709-1a1f-4318-aa20-a9ba23dd0be5', '6c69b880-77da-4f70-86d4-d176e96df158', '148b3118-a573-45eb-be10-6576afb65040', 'd3b2ffef-806d-4426-b5f2-d4f7280c1d6f', '199dccc7-9f57-4e0a-8187-77f6dd21c63b', '9d9ad986-ab02-4ac6-a179-9f7de6e46e33', 'ab00525a-10f6-4920-9d48-98de3467268b', 'cce73abf-ab95-4dcc-8050-ada71100430f', '713d05a4-280a-4687-b178-ad2611684788', '79540033-3689-42cc-a098-b0776a250afc', '0abe240f-7e47-405e-84db-43c70cedb42e', '1ed874a3-7f1f-4799-a996-586a13ccde10', '63edfc43-b8ab-427d-b827-6771993d44cf', 'ed47a335-b035-477c-895f-694c62ab7dd4', '20b0c1ff-5d6b-4a82-bbe6-e06e730e6fd2', 'f0a09d07-e765-4d67-b544-95bfdb9e3543', 'de8c552b-c7d5-4bae-8445-586a39565fef', '23a2855d-c7f3-4a2c-898a-c7270f78452c', 'bbafa57a-a3c4-4065-8854-ad5b8b7c2003', '4d003b16-db2b-455b-9d44-f62bb9ee8aca', 'f99f04cf-ec9b-4427-b98d-ffabc2ebd9c3', 'bb8b88d5-c36c-4a7c-8a08-31351d2f5818', '628d71c7-1e8e-4d1d-9a29-6b1fd25be62b', 'f8aa869b-1525-4a9f-8769-7430558f7ff8', 'c8047b54-ce32-4831-afbf-b9a71fa84687', '7cce8151-3b63-46e9-b238-2b2098f23a2c', 'fd6b9ff6-adfd-4ecf-9f96-424404ad53d9', '6a9cc692-da5f-496b-9238-cf8f1040ff40', 'b89408a8-9d91-476c-bf04-19a03a42e9db', '2148a198-be3a-41a6-8c36-0581cfdaf8b9', 'd8cdfb1f-d71e-48a5-b1f1-cfcc34705adb', 'd225aa64-1f5a-4ebb-8408-3f81ea1592a1', 'b1a8fe58-5f64-40ce-9db7-5f7a04a31076', '41690201-a771-4107-8c03-badd18edc629', 'e77c8649-5d8c-47ae-bd46-d6e1aef14b62', '8563a50d-c882-4332-8287-40399a519d64', '3bd6f54b-cafe-49ea-88d9-bf22fe762fbf', '97e8e990-f588-4ef1-b74f-770b7c86a5e6', '3bafff5a-599a-4ca7-8859-26e65f82473b', '1e3de637-5910-45d8-a389-8215bb7740a2', '531ae1bc-7314-4004-b3c1-12ac004ca636', '22e360f9-79f7-4bb4-95a3-b3de8cabdfa1', 'f12c3740-a283-4be0-b714-fa86cf64cc97', 'e7caa62e-fc71-4f18-b499-123bc5040e08', '79bc8bfd-6817-4938-94d2-a3fb1b24fece', '868c9695-ed78-450d-b10d-b9444695cd6b', '0a61fffa-4045-4247-8390-dee359377467', '212fc630-1faf-49c9-a76d-5e1751b93294', '39032fad-d7fc-4ce2-8fdf-03869c0e07ae', '0c41331a-fbd3-4726-a99d-2174f2dbc405', '0255ab01-74d3-404f-a608-95811b4c2bfa', 'f689d32f-d92d-40ec-bc55-7c9d30740e3c', '1e51cc49-312a-4a30-937a-ce7d04fb6b21', 'dacb2fdc-4320-4722-8546-3ad288098a7d', '98d9441c-22be-4dd2-90b0-11265815dced', 'b0ffa821-18da-4e27-acc3-183e0ffc02e6', 'c4552922-ffb1-4827-b66b-afae3b7a674c', '11aee2b5-c0c0-46e6-b546-6a2983df7df5', 'f38e1981-d067-4568-9c10-473c43bf7581', '7f59f427-030e-4d6f-9790-d91a55b227e2', '0ce3c8f7-9721-457f-b141-0ef50cf171a1', '346677fd-7565-42aa-b0bf-4f2c3504538a', 'c3a995d1-7ac0-4fef-9397-d935a9a69ef6', '9a45e593-5583-469c-ab71-66bb53ff2682', '93d5a94e-d62d-4508-88c6-b12ad1fe1bdb', '81eef800-976a-426c-ba17-70c4f2451d72', 'c906eeb1-9a41-4d6a-95f6-19a97f5e65cd', 'dc279317-7d69-49d0-8642-f565e37f2cb8', '9ab10f29-2bb7-42e1-bdf6-a3b6437779c7', '1336cc60-f9ac-4f10-a607-7e5a526c74eb', '2ae73d1d-da56-4561-b94b-3baca4a0d65c', '6fc0f11f-dcd8-4fe1-bd46-e22c1705a40c', '67dd5175-47f7-4848-9244-38988b2c5b56', 'ddebb3f3-81fe-4cef-b8fc-32eb4da83731', 'e4790888-c0e0-4bf0-871a-52e2c221ea80', '05ee981b-8257-42e6-a752-d602e1fe6fbd', '928671f7-b787-4cc0-a450-37c75a8c2974', 'da58193f-2199-44d9-8bb3-5ecaac1ac564', '40c1ac0c-52b0-4ea6-81d1-da595b2c19e8', '20df4e35-7c27-47bd-ab87-276ab9501551', 'b86183d7-af73-4814-b24d-2b1d9f6b03b5', '7769d19b-f1ec-4a70-b609-221cff05f07f', 'a1ddf3e3-2d21-476c-9dec-f73eae8f2a34', 'ab652146-e38d-4f12-a564-63674daa49b3', '04815b8b-7933-424d-82fe-2395c4e10867', 'a1324be2-0367-4edc-9824-6b6af5a41361', '61016b68-b9ef-4f99-b7f2-5b8d0787c99f', 'cccfd59c-d87e-48f8-a60c-e6e1df18d90b', '0088f30e-4ab3-4574-a854-dd3e8f7e7d47', '89a2dece-b802-473c-a3f2-d94ef383e4a5', 'a9cfee0c-ece6-4ceb-b47c-af29e17cf2f1', '8f7f222d-ca3f-42cf-acc3-8f02b0c47166', 'a92a47d1-c062-480d-9244-5c088b2495a9', 'd64d25bf-9f91-47f5-b02e-6a3fb90dec11', '33f64f8a-0365-4f6d-b9a4-3089982ea8d3', '1141517d-7611-4a5d-acd5-3aa848fa1694', 'b684b10a-2c17-48fd-82af-6cfd97bf88ad', 'aa5ebd3a-ee23-472f-ba18-a0df5256d734', '7476138c-b729-4195-bcd3-97643cf09fd0', '06b1d983-409e-4f1a-ad6f-5da6e9321ce5', '49061851-37ab-4296-9b8a-34fb636490f9', 'f3599b07-d575-432b-a6f3-9f690c859a97', '3f75929a-e8d4-47ea-a259-ef7e3c488fa0', '363299c6-529e-4c10-afed-f196f8be7fac', '6c8f76d3-2686-494c-b5d6-86a37612a89e', '230ae9eb-1cbb-458f-9973-4de476f7e189', 'd810d26c-a60c-445b-afc2-f5f9f0d19493', '402b47be-b3f5-4a27-912e-1039d596519c', '9bb957ba-41aa-4db7-b5dc-bf62dde1836d', 'ff11db39-efab-46dd-9c33-c632f72db440', '3e9c1a69-8234-4752-b001-8931be0781db', 'fb4c6c43-c089-4f69-9e3d-d8e03541fe1a', '754c31bf-a4f4-4121-8834-4e94fc96d736', '70476ca4-aaf2-4f1a-9655-8846ab8c5820', 'dcc31876-9640-473e-8bcd-a30660768c2a', '9229991b-a34c-4e88-a4b4-ac4cef7951ef', '4149fa2b-6ad3-44d3-ac8f-f859c198eece', '0c9d49a1-bb29-4760-aa6d-748717bc67d9', '62f851ea-bd34-4ea0-9b6d-8f10b04c5338', '21ff2357-1fd6-46bd-b08c-f942ccf6bc76', '5696f4d9-4de1-4e1b-a451-c789bacea649', '15f65588-0289-4bc7-a853-d5ec6b324bfc', 'e6559036-9884-4e24-bfe5-8e5c80c0f60a', '001dbcdc-535c-4d03-9adf-c673e85703f6', 'ece20efb-f541-49b9-8f15-3758435a7b9c', '58bf0108-9d48-4e22-91e4-d8176dcd7af2', '304aba15-c222-4b46-9a7e-1620e05ae331', '95406215-d9fa-4229-b67c-a416e63a75c6', '51feb4c4-7179-4392-b5a6-ebf432c0418e', '47474cd0-0cc7-4874-8dd2-e0c7dcbbbcac', '10d3f501-ec05-4231-a2cd-cf131d165a89', '280207f5-82a6-4910-b6f0-ff5a3556788b', '8a4aa1e9-19e0-4be5-8b22-3cd706b1a75a', '49cac451-3840-4acd-981e-c4802bea798a', '8978035c-e22b-40b3-ad5a-c757711bba74', 'a3ccae22-fb4c-4f89-86f8-b435865de322', '9322c409-9fc6-4c41-a63e-ecb7f26d4e10', '97b8599a-c2eb-47ab-b430-f9eec5cf8700', '2ef441d2-2ebd-4d21-ae8e-ac54a4d5721d', 'c22cdf2f-7e57-4654-bc3b-ace2da976ec6', '41fa0fde-57bb-46aa-8e60-fde97e062ca0', '313ae1e2-c6d1-4c8f-819e-514facfa2dc6', '712e6979-6aa7-4e90-82b3-91e18556be19', 'b439bb4a-7081-4bc8-9b05-cfafef04d394', '397b4905-8846-4099-9469-dd6416f72e07', 'e4017897-3d8f-4888-9adb-0bdf41f2247d', 'f4a0edba-415b-49b3-8986-9ee422ec2c8b', 'cd7883ff-148d-46a2-b25f-a758f6801453', '8d87e769-a6c6-4cd5-aba2-5da02b2e23dc', '69469e2e-bc4c-4f26-857c-353ed05346a6', 'ede21d16-7569-4c13-9e65-2d4883dd0361', '32658da1-cd94-4554-a778-269f11ec7167', '69544973-8fff-491b-8cec-56a3057d4ff1', '4fdabe89-4825-48b7-b103-4f23973cbed4', 'de3a5351-06e7-4ae8-bc55-7b054c20d620', '7a372a36-ea52-4569-8bd8-986494f0785a', '7acb62fa-1944-492c-a5ed-93ca67e23a41', '4a747da3-e85b-4147-9378-e0792cecd134', '9a4df06c-1606-4506-aa79-f7b1dc9cf13f', '4761ba1b-7f54-491c-b0dc-7e5fede03946', 'cae4fd8c-ff2b-48a1-a92a-7563d7f266e2', '09181d08-29c5-44fd-b76f-da3a8651921a', 'fe71c3e2-a925-4f1c-ac4b-da1a8dec4316', '888625c6-ac15-48f8-a57e-868f0890e815', '6a603b74-b893-4c92-b214-21eaea4a5329', '01da2f0e-fb47-4a96-8844-ce6b371c1e4b', '3c53b82e-4bf0-493f-b7a8-4eae2a30bbd8', '6f5cf1ab-5a61-4431-8b53-b61b0bb25dce', 'b480a9e1-58b1-4b57-ab91-34a29755cf3d', '1ed85a8c-7ee8-4f1c-96b3-9f605cc90c2b', '2aca6386-8a1a-4cf2-96ff-d7daaf6ff21d', 'bdb54826-90a9-4c52-b808-ae33fabe40a7', 'c6ef820a-8cd8-43fa-94b0-8b56475b27e8', '3149abf2-d20d-42a9-9d85-31d26b8a4897', '82212430-778d-4ea3-ad04-4e19b17394c4', '73e256f9-5131-4103-8a8a-a95466754b2e', '8b109286-75ed-4b6a-ae99-c2ed0bf03542', '39886629-9c66-48d1-beaa-0ec1c8778a08', 'c58e5f00-6f00-414c-a441-d43eee483796', 'b6a32113-3443-451c-90fd-39353e13ea08', '7046eefb-d94a-46f1-828d-07d0d0d52fa6', '1e07a0a1-c141-44b7-8525-f5678b5f3b8d', '6287a0f7-365e-4a9e-808c-41fb037b6b2e', '69befca9-8bfb-4446-ae2d-6951183ee3af', '7f7a94cd-dc03-4094-9ccc-713c589eae0e', '02206904-d21f-429d-8457-b7f2c2d66b81', '4e56ded2-6578-485c-a557-3eed228300ce', 'f9b206ca-f019-4c33-a507-c2567ca7a514', 'da3db981-0c59-421f-a965-387054b41e9c', '87743b06-8ccb-49fa-a671-dc828f8fdf01', '9a149c39-5b6a-4b5b-9718-86b65316b649', '57abdf86-4b82-4698-956c-8332777cd7a2', '6c01c6ec-1de4-4f2c-9cd2-183388556259', 'cc56905c-37c3-4ca4-8c09-67e07b3ec003', 'e103ef79-6440-4089-a88d-8a8a7b6da479', 'bd235da2-ab6b-4ab2-a2b3-cb0cf5ab25b6', '9cfc90e7-761b-4cb7-add4-ee25861839cd', '24bad1d8-0f04-49f2-8175-36000bca7779', '6f22d28d-d271-4e67-8f01-5b2c16ac7e6a', '094e3262-359d-4a31-96f5-fd167d53f5ff', 'b75ad7eb-9c05-4905-a770-571c6f6177ec', '2628b63c-1a9a-482c-89d6-7cf7d4bdd992', '734b3859-9f88-4111-a03c-b8dd359071b8', '81be4f9e-0280-43eb-88c6-8a3e5fa819b7', '4f42269b-5480-4914-b5a8-19701307579b', '2e304297-a1e7-4a2d-b0ca-961a0c93fd00', '3137328b-0332-4b49-940a-7fbd3fa1ee9f', '92118c45-fcca-4fe6-9e74-c9e1fb3a32cd', '91f0fa7b-6d39-4f8f-9964-8176378c9b95', '9ac32721-d2ae-441b-afd6-381adb6e27e7', 'e85cb3ce-3807-4240-bca8-a312547c70be', '89f72eea-71f5-4c8c-8fb3-05e51742eea0', '720accbc-bb70-4e65-a244-3ff38bfabc0c', '2603956a-9098-4eb0-957b-43deb1ce795f', '6785cf13-cbf7-4135-a866-fb56d88ede08', '43a3feb4-30fe-46aa-a8cd-a60bff274a43', 'a8b53e87-6524-4fa0-bb76-24ffd0dfd9c1', 'b598c230-9b3e-4d2d-8c74-098c14589d9d', '4d838b51-31fa-413b-a2e1-8795d15cd4de', '17d69b34-c5e5-4e31-ba93-c2968494cd7c', '819580cf-10ef-4e36-b571-0742f7c91e1a', '4601b601-734d-42e1-a7ac-8d67bd9ef331', '193bd4d1-ad8d-46c5-beb2-3b80d8b9e8e0', '974f0a8e-ca9b-4146-9b43-65791a352057', '90bd0a78-90a3-441c-a583-5cdff12601f0', 'd20cd626-b3d2-42ce-9433-ce7e36bbc330', '051e41aa-0384-4195-a8f2-b901e3b0ec18', '2da8ed54-6790-41e9-98a7-51add295c646', 'b9dbb543-139e-4541-b7c5-9bd1e94fff9d', 'ecd2343d-4f75-4b76-85fe-08be1d4f00df', 'f8a75e39-4912-4c67-859e-749bdec207cd', '63278546-9441-4501-a3a6-574065ad9432', '3ef0e4a2-1afb-42e1-8e36-cb11f68c6592', '81663cff-4496-4aad-86c4-0dd3803f7470', 'b49ac777-08e9-407d-a324-42be6d540cf7', '5f7ba5bf-c107-48d8-933c-371fbd69fd26', '00129e65-2e9b-4825-95cf-6b82672320dd', '78f21c0c-c9b4-47bd-b54c-956437153d00', 'e06a53df-3745-46c5-ae62-308eba016aa1', '502e0fbc-56c8-4164-8389-702b9b3cbc10', '68136a7c-4ec7-4562-bc89-9b63e71f51b3', '5b78cb61-8780-4369-b125-369734f823c8', '5c5459dc-db80-4971-a073-c7c92766deea', '24181e66-ef15-4858-a7fe-d55d4fc50862', '1e1a1630-4aea-4949-bb4a-04a91656f4cc', '7781390f-2534-46d5-b9de-ec0e4dceef1b', 'db194f9f-b016-4ecb-ab48-6f5e71cbbe54', '1682dd36-dd0e-4b4f-b7c4-95be671d7f00', 'f0430c7a-ef3c-454e-b30f-4c7b4dd3c65c', '4d22f174-4fc0-40b0-96cf-26d44c0465ee', '581cbc9b-1502-40be-a0a0-6f49962f690a', '77dc40e2-598a-43d1-935a-b7403c1687bf', 'adbaa977-773f-4915-9c3a-8419cc277691', 'd7030d6f-9b12-47d3-9c54-a31c852830ff', '1be14de8-95df-4800-8a7d-3ee4718f6844', 'a9b90b7f-3f9f-488f-bd67-1cb77a9ed726', '3a7d8600-139d-4cf1-8943-35cfb36cedf7', '2fa5b328-66e8-4621-85dd-7af9d9d245a7', '17310bb7-ade9-4bb8-9c80-142305e2a244', '37261e68-a23e-4d91-97e0-48ade074dcb8', '61f02584-a6ec-485a-85bc-7c1dfa59a9d8', '8373c153-ee3d-4ce0-b38c-a24d12e9f907', '863d27c0-60ef-47a7-a63e-3d1c0221bbcb', '98d67081-128c-4a67-a384-e6f0fd93d2c5', '133dab8e-292d-4417-b4be-a8e0e15d80ba', '82a31c42-4bcc-4d9d-80fc-f85a8fbac09c', '49df5a5f-edd9-4467-b1d7-9bd4aed21e6b', '3418326a-a3b0-4e62-aa04-9fc52ea21689', 'dfe7961d-6f4a-47be-95e8-0ab0d2fb3b06', '464e63ea-547a-4122-8dab-4eaca0cd0bf1', '38fd0a2f-8e91-4777-aebe-181d11d176a1', 'f4bea441-cd54-4bb5-8411-2045a2e7a18b', 'e56a36bc-b153-477e-a669-277804caf2c9', '52861c19-a706-4c7b-b08f-ead7788902d5', 'eb25395d-4b56-4e77-8225-e8df7d2bac10', '8b518d74-7e52-40a0-ad78-2a65e3cb1251', '41b6a160-b2fd-48d2-af4e-6df3ecf86bb7', 'a3291c47-a9da-40ec-adae-1243780374b6', '283c7b7f-558d-4ee6-8a38-7fce3fb36ca2', '23dca718-e07d-41ee-9ba4-b78dad3ed1ae', '53ec5153-3532-497b-8db6-d87fdf5226a7', '475440ca-74ef-4dce-aeb2-a193ad1c44c2', '9775daa5-6cf3-4894-b554-37c34817c19a', '926e5ba0-a004-4be8-83eb-8b5ce3a5c611', '3edff562-f7db-4c45-9368-8c3e8bc4ee69', '326cdd3b-3f74-4a27-a8c5-5a2078f74528', '73501d21-0637-485a-92a7-c507a4ce5d42', '300e41de-758f-45b3-8b86-48bc26794db2', '84fba1b5-2523-4358-8ce4-5482e4162936', '1e8ba4f9-eab1-4b7f-a39d-7fb8e4f7e837', '6feeca48-3fb4-4093-86e0-6a68cb0277c6', '0f539983-76cf-4d2f-94f5-c66cbcbc7e71', '4b2a4586-cf1b-4c52-b2e0-c1ca6c0a2ee9', 'e3a50478-f6fe-464b-8951-1ddff9a6d52e', 'bd83ffd8-7aaf-4fa6-8386-c219293ea0e9', 'c03c42dd-009d-475c-8cbe-9b28d1a50400', '2d8dcca0-8b0b-4540-8e36-2757810c2774', '3e7b84df-83dd-4007-b0ba-3f093058264d', '19a6b242-383c-4f01-9e33-6a7b505e10f3', '03a53546-b967-4d5b-ab9f-fc63e71cbda7', 'f3d1f9d5-c187-4381-a09d-89cdb649ed76', 'c571d315-a342-44f3-a78f-140b43327146', '0734be7a-c9b1-4623-bbf7-c39cab15ec83', '470757da-264a-4101-b498-7b3ccc6036a1', '08f7a351-758c-4a10-b5ac-fd4b50e2bbfc', 'b3651a0a-4db8-4b21-a9ca-be65950b87ab', '04218155-a18d-4eda-a00b-7e7cfc5e5f81', '24792695-646c-402c-a565-56628648d13a', 'c276e0c1-5533-4fc8-96c2-5292302cb850', '3078ab96-df67-4939-b10c-ede121b5c287', '532f621d-c7fa-4ee3-b18b-d3d7f036ccd4', 'c600ad65-7854-48a1-8c12-268074730c15', 'fe3c020c-7575-499d-8965-952ff7fc95ba', '0eb98990-e5d5-4297-a4f5-f2111a0b33da', '62f500fd-4a11-4250-bf5c-f75905da94b3', 'f052dca2-bc73-4bbb-9dbb-98b51c9471d6', '2597afb6-ec8f-48e7-9aa1-166b78340d22', 'a3ff7dd2-8848-4afc-888e-2ed6cda60dec', 'f0d6175f-f16a-44ff-99d2-2f227fb1005b', '193b2c83-c1cd-4b57-b51d-d8a88646e8b9', 'ad079f0d-0b95-4ed4-abde-757cc7bcebdd', 'b96abc95-7327-4c9a-aa99-40cbc28b7a68', '9631b6e4-610f-4369-bebe-012e23ab49e5', 'fb345335-bcde-473d-8e32-bd5808665e27', '35e97bef-b5c5-4c9a-81e5-739ac0f1cd1c', '161c4d58-5203-4e9b-82b2-df9a83b24d2f', '07b773a6-90fe-47c5-ac38-d156f36b27b5', 'c16d13ad-d6ff-4dea-9a34-c00078998273', 'fd017e2d-cd25-41ba-a4d4-646732839c42', 'edf001fa-7af2-4d78-8a01-38724d918ac7', '80b7c030-f5ea-4f47-9c17-2a019d8c3a64', 'f594b655-47e1-484b-9d76-e5b7d3fd4279', 'cd966c51-8643-4821-8182-90bc833bda17', 'e4f66749-1106-44ac-8e44-89e45b0300df', 'f17fd2b9-047f-4643-9ec4-d7cf2fcedfaf', '023e56d5-737e-459f-b96f-215c18aee766', '66eb9b0c-0472-459d-acaf-c79cccccba54', 'ce3a2020-f683-424d-b6d0-c1852499daab', '4e981010-c4c1-41c3-b8ec-1b4d1d01a5f6', '5196b5aa-3ce0-4213-9b41-bfcbc006482c', 'fd6178b9-308c-440b-a7b9-97819fa3a141', 'ba83a915-f7f7-4d11-b920-3fad170c19bf', '001fa657-1f3d-41d7-ae8f-b944c7a1a763', 'b057c2a2-bfac-408c-8de6-e223781fe204', 'ceec7e91-8c01-4f23-852a-c7f0ddea3d9e', 'f19e47b6-875c-49ca-bdf0-240c48199840', '13a9bce4-5eb6-4579-b3da-4cf8de531bac', 'adabd5b6-07ee-49bd-8546-b13efd908575', 'f048bc56-16df-4348-988b-7ee983d29683', '362edcae-2a35-4d85-a506-342544a22105', '97d8ba95-b734-4f46-ac61-1c04e932fac7', 'b52197dc-689b-4a89-8fdc-424bd5f83965', '83dabe21-f464-47ca-911e-b60d9bf1ddda', '89a2d602-2e45-4e9a-ba72-9c4980c6e387', '2bf26ca4-b57f-4f55-8137-161cdd8a4779', '745b7e75-41b9-4c54-b83a-ef954148843f', '364e7c44-16cf-4a11-9f4f-c1c372a5d02b', 'c66da3bf-f5c2-499f-890c-44f685db6434', 'ebfe144d-a48b-4a71-b471-f8c0f6da2697', '09095321-9ddd-4dc8-a010-c97a5ac6e412', 'ab9493f6-6c6d-44d3-abbd-4dc3a3c373e0', '30a0a3bc-4dd6-4b68-ac70-f8eba27fc163', '0453c827-47ef-488b-8f50-beca2800ecf2', '7d32fa9d-f85e-48c8-9789-f114563a2026', '4a91a3bd-2114-4eba-8685-5d87eb29b93a', 'acd29cdb-5501-4cf1-a710-3216fa75d697', 'd46e122a-5954-4f0f-a14c-0422d6fc8294', 'c48ba29d-eb42-4808-8640-a9c7be810e24', '7fe0b34a-01ea-4c9b-9310-92d62c169648', 'de00765f-b30f-44d9-a885-59d6d9c0c303', 'a098cbf1-eb1e-4db5-a735-2aeebbd7181b', '686df143-e7b6-4737-8f07-a74c70de1ec3', '4e2c7a30-2a14-4fb1-bdc0-0d95472abbb6', 'ca6b6fa2-305b-4d10-818d-17612716b572', '1df1cec9-7320-4c3d-8785-f51e2b464fe8', '403b488e-686e-4260-8c21-47038008c76e', '9612cc12-5d29-495c-b3c1-72a615c0f8cb', '0345b0fb-304a-4932-b1fa-27cb97791bcb', '82b6ae95-1502-4964-b778-230e9c7d3304', 'e4132df1-705b-4784-8033-cff334c48077', 'daa98f58-ab54-4474-9afe-722acc37853a', 'a46e7f8a-9261-4ff9-b158-b16eb32adf92', '090b2671-2df7-4834-a147-73279b137c36', '2e7f09c8-0f9b-488a-a8b3-51ac62dbab8a', '1666b29d-7b65-4779-a21d-beb3153de423', '06241b0e-e5e5-4600-96d5-1e2805423aaa', 'b37bd425-a3a4-4e85-9119-ed35853e8469', 'f417b022-f26a-4b5f-8e8d-c3475002d91b', 'ac42d832-1882-428b-ad5c-059035fa75c3', 'f7ed9c0e-b730-4f36-9018-d674af0b807b', '2972e726-fb54-404c-85c9-94f80d184c79', 'a9be9007-ffb9-476c-9434-1dc1222f6434', 'abf16e84-3efe-4c17-97dd-6bbbe94027e9', 'cdba6c4b-d7ab-495d-9494-5742f61f7bf9', 'c8b1c1ce-9020-4db9-952b-be8037041924', '26cd370b-ad67-4efb-977f-15382fead5de', '3db28fec-6f1c-417d-9df3-8e71c920dc7b', '43fe46da-be13-4608-b5f2-f575552c5f67', 'c37f384b-c487-4e46-a13a-488906a57ad7', 'ff9530e8-1508-4c6c-9eb4-b6e6069163a0', '311dc7d7-bea1-402f-b8e3-c3d3e5953560', '0187b463-bcee-4c7e-a3ae-5d6666cf763e', '42af711a-0026-4ff1-8627-9ede49cf5afd', '88961fa9-053b-42a3-a40f-d882dfdfd194', '78d894ed-ea1f-4991-95cb-745839ec9bb2', '5b741ca2-618c-4a9d-ad46-2ade27508432', 'd5be4ff1-ac44-407b-b3c8-40e3d6b9117a', '94502364-ac85-4d92-a422-248bf81663ad', '752d2cd1-7dec-4858-8447-d14dc93989ae', '19be86e3-6e25-4c43-825a-550affd9bca5', '7fc9ce24-3977-4d8d-8dc4-febbc784ed3c', 'ea7b981d-9826-4ed8-bd44-98cb9efbf5c9', 'c42f485e-e52f-4bcc-885e-3e7600a0ca4f', '4452e5de-3332-45cf-905d-935a027b6a90', 'bbca86b1-14e8-4f72-accf-f55111f46e5c', 'b3f890f4-6175-4b16-af81-b732e09d9a04', 'c9fd8702-a0bc-4236-aeaf-542cb2239896', '1b23355e-e77b-40cf-b52a-57a4712ded99', '1e71ec79-d42d-45af-af4f-6d6a6d0882a4', '52dd4b96-d26c-4653-a031-3a5750ab1b4d', '0f9d49e3-4245-4d2a-a712-639a281668e7', 'eac7ee2b-2718-47cb-8785-b1384714ff15', 'e19a1170-39a4-484b-8eb7-25561cc30358', 'fca73e29-2c20-472a-9856-47b3e0126995', '090d67e1-b114-4d20-a427-49490b9182fc', '22ba1a97-9a88-4fce-859c-baff3f2ac1a4']\n",
            "Length of attack files:  522\n"
          ]
        }
      ],
      "source": [
        "print(\"Attack log files:\")\n",
        "print(attack_files)\n",
        "print(\"Length of attack files: \", len(attack_files))"
      ]
    },
    {
      "cell_type": "markdown",
      "metadata": {
        "id": "I5ewVzKmWReS"
      },
      "source": [
        "# **Data Cleaning**"
      ]
    },
    {
      "cell_type": "code",
      "execution_count": null,
      "metadata": {
        "id": "DZrxOOUiXJ8C"
      },
      "outputs": [],
      "source": [
        "def clean_csv_file(file_path):\n",
        "    # Open the CSV file\n",
        "    with open(file_path, 'r') as file:\n",
        "        # Read the CSV file into a DataFrame\n",
        "        df = pd.read_csv(file)\n",
        "\n",
        "        # Handle missing values\n",
        "        df.dropna(inplace=True)\n",
        "\n",
        "        # Data type conversion\n",
        "        df['SYSCALL_timestamp'] = pd.to_datetime(df['SYSCALL_timestamp'], unit='s')  # Assuming timestamp is in seconds\n",
        "\n",
        "        # Remove irrelevant columns\n",
        "        irrelevant_columns = ['PROCESS_PATH', 'CUSTOM_openFiles', 'CUSTOM_libs', 'CUSTOM_openSockets',\n",
        "                              'USER_ACTION_op', 'USER_ACTION_src', 'USER_ACTION_res', 'USER_ACTION_addr',\n",
        "                              'PROCESS_name', 'KILL_process', 'KILL_uid']\n",
        "        df.drop(columns=irrelevant_columns, inplace=True)\n",
        "\n",
        "        # Encode categorical variables\n",
        "        categorical_columns = ['SYSCALL_arch', 'SYSCALL_syscall', 'SYSCALL_success', 'PROCESS_comm', 'PROCESS_exe']\n",
        "        df = pd.get_dummies(df, columns=categorical_columns)\n",
        "\n",
        "    return df"
      ]
    },
    {
      "cell_type": "code",
      "execution_count": null,
      "metadata": {
        "id": "Fxu6iLHBaXN1"
      },
      "outputs": [],
      "source": [
        "def process_csv_files_from_zip(zip_file_path, attack_files_path):\n",
        "    # Mount Google Drive\n",
        "    drive.mount('/content/drive')\n",
        "\n",
        "    # ZIP file path in Google Drive\n",
        "    zip_file_path_drive = '/content/drive/MyDrive/' + zip_file_path\n",
        "\n",
        "    # Open the ZIP file\n",
        "    with zipfile.ZipFile(zip_file_path_drive, 'r') as zip_ref:\n",
        "        # Iterate over each file in the ZIP file\n",
        "        for file_name in zip_ref.namelist():\n",
        "            # Check if the file is a CSV file\n",
        "            if file_name.endswith('.csv'):\n",
        "                # Extract the CSV file\n",
        "                zip_ref.extract(file_name, '/content')  # Extract to temporary directory\n",
        "                file_path = os.path.join('/content', file_name)\n",
        "\n",
        "                # Clean the CSV file\n",
        "                cleaned_df = clean_csv_file(file_path)\n",
        "\n",
        "                # Process the cleaned data (placeholder)\n",
        "                # Your processing logic here\n",
        "\n",
        "                # Close the file\n",
        "                os.remove(file_path)  # Remove the temporary file\n",
        "\n",
        "    # Read attack log files\n",
        "    attack_files = read_attack_files(attack_files_path)\n",
        "    print(\"Attack log files:\")\n",
        "    print(attack_files)"
      ]
    },
    {
      "cell_type": "code",
      "execution_count": null,
      "metadata": {
        "id": "vQQ-VysUaZRS"
      },
      "outputs": [],
      "source": [
        "# ZIP file path in Google Drive\n",
        "zip_file_path_drive = 'DataSource/train_data.zip'\n",
        "attack_files_path = 'DataSource/train_files_containing_attacks.txt'"
      ]
    },
    {
      "cell_type": "code",
      "execution_count": null,
      "metadata": {
        "colab": {
          "background_save": true,
          "base_uri": "https://localhost:8080/"
        },
        "id": "tAhfMQIKadXs",
        "outputId": "d2f14ab1-6a88-4e5a-d6fa-8ce45726076b"
      },
      "outputs": [
        {
          "name": "stdout",
          "output_type": "stream",
          "text": [
            "Drive already mounted at /content/drive; to attempt to forcibly remount, call drive.mount(\"/content/drive\", force_remount=True).\n"
          ]
        },
        {
          "name": "stderr",
          "output_type": "stream",
          "text": [
            "<ipython-input-34-03394ce68cf1>:5: DtypeWarning: Columns (33,34,35,36) have mixed types. Specify dtype option on import or set low_memory=False.\n",
            "  df = pd.read_csv(file)\n",
            "<ipython-input-34-03394ce68cf1>:5: DtypeWarning: Columns (33,34,35,36) have mixed types. Specify dtype option on import or set low_memory=False.\n",
            "  df = pd.read_csv(file)\n"
          ]
        },
        {
          "ename": "KeyboardInterrupt",
          "evalue": "",
          "output_type": "error",
          "traceback": [
            "\u001b[0;31m---------------------------------------------------------------------------\u001b[0m",
            "\u001b[0;31mKeyboardInterrupt\u001b[0m                         Traceback (most recent call last)",
            "\u001b[0;32m<ipython-input-35-e9a11ec81498>\u001b[0m in \u001b[0;36m<cell line: 2>\u001b[0;34m()\u001b[0m\n\u001b[1;32m      1\u001b[0m \u001b[0;31m# Process CSV files\u001b[0m\u001b[0;34m\u001b[0m\u001b[0;34m\u001b[0m\u001b[0m\n\u001b[0;32m----> 2\u001b[0;31m \u001b[0mprocess_csv_files_from_zip\u001b[0m\u001b[0;34m(\u001b[0m\u001b[0mzip_file_path_drive\u001b[0m\u001b[0;34m,\u001b[0m \u001b[0mattack_files_path\u001b[0m\u001b[0;34m)\u001b[0m\u001b[0;34m\u001b[0m\u001b[0;34m\u001b[0m\u001b[0m\n\u001b[0m",
            "\u001b[0;32m<ipython-input-29-867c788ce27a>\u001b[0m in \u001b[0;36mprocess_csv_files_from_zip\u001b[0;34m(zip_file_path, attack_files_path)\u001b[0m\n\u001b[1;32m     17\u001b[0m \u001b[0;34m\u001b[0m\u001b[0m\n\u001b[1;32m     18\u001b[0m                 \u001b[0;31m# Clean the CSV file\u001b[0m\u001b[0;34m\u001b[0m\u001b[0;34m\u001b[0m\u001b[0m\n\u001b[0;32m---> 19\u001b[0;31m                 \u001b[0mcleaned_df\u001b[0m \u001b[0;34m=\u001b[0m \u001b[0mclean_csv_file\u001b[0m\u001b[0;34m(\u001b[0m\u001b[0mfile_path\u001b[0m\u001b[0;34m)\u001b[0m\u001b[0;34m\u001b[0m\u001b[0;34m\u001b[0m\u001b[0m\n\u001b[0m\u001b[1;32m     20\u001b[0m \u001b[0;34m\u001b[0m\u001b[0m\n\u001b[1;32m     21\u001b[0m                 \u001b[0;31m# Process the cleaned data (placeholder)\u001b[0m\u001b[0;34m\u001b[0m\u001b[0;34m\u001b[0m\u001b[0m\n",
            "\u001b[0;32m<ipython-input-34-03394ce68cf1>\u001b[0m in \u001b[0;36mclean_csv_file\u001b[0;34m(file_path)\u001b[0m\n\u001b[1;32m     19\u001b[0m         \u001b[0;31m# Encode categorical variables\u001b[0m\u001b[0;34m\u001b[0m\u001b[0;34m\u001b[0m\u001b[0m\n\u001b[1;32m     20\u001b[0m         \u001b[0mcategorical_columns\u001b[0m \u001b[0;34m=\u001b[0m \u001b[0;34m[\u001b[0m\u001b[0;34m'SYSCALL_arch'\u001b[0m\u001b[0;34m,\u001b[0m \u001b[0;34m'SYSCALL_syscall'\u001b[0m\u001b[0;34m,\u001b[0m \u001b[0;34m'SYSCALL_success'\u001b[0m\u001b[0;34m,\u001b[0m \u001b[0;34m'PROCESS_comm'\u001b[0m\u001b[0;34m,\u001b[0m \u001b[0;34m'PROCESS_exe'\u001b[0m\u001b[0;34m]\u001b[0m\u001b[0;34m\u001b[0m\u001b[0;34m\u001b[0m\u001b[0m\n\u001b[0;32m---> 21\u001b[0;31m         \u001b[0mdf\u001b[0m \u001b[0;34m=\u001b[0m \u001b[0mpd\u001b[0m\u001b[0;34m.\u001b[0m\u001b[0mget_dummies\u001b[0m\u001b[0;34m(\u001b[0m\u001b[0mdf\u001b[0m\u001b[0;34m,\u001b[0m \u001b[0mcolumns\u001b[0m\u001b[0;34m=\u001b[0m\u001b[0mcategorical_columns\u001b[0m\u001b[0;34m)\u001b[0m\u001b[0;34m\u001b[0m\u001b[0;34m\u001b[0m\u001b[0m\n\u001b[0m\u001b[1;32m     22\u001b[0m \u001b[0;34m\u001b[0m\u001b[0m\n\u001b[1;32m     23\u001b[0m     \u001b[0;32mreturn\u001b[0m \u001b[0mdf\u001b[0m\u001b[0;34m\u001b[0m\u001b[0;34m\u001b[0m\u001b[0m\n",
            "\u001b[0;32m/usr/local/lib/python3.10/dist-packages/pandas/core/reshape/encoding.py\u001b[0m in \u001b[0;36mget_dummies\u001b[0;34m(data, prefix, prefix_sep, dummy_na, columns, sparse, drop_first, dtype)\u001b[0m\n\u001b[1;32m    201\u001b[0m         \u001b[0;32mfor\u001b[0m \u001b[0mcol\u001b[0m\u001b[0;34m,\u001b[0m \u001b[0mpre\u001b[0m\u001b[0;34m,\u001b[0m \u001b[0msep\u001b[0m \u001b[0;32min\u001b[0m \u001b[0mzip\u001b[0m\u001b[0;34m(\u001b[0m\u001b[0mdata_to_encode\u001b[0m\u001b[0;34m.\u001b[0m\u001b[0mitems\u001b[0m\u001b[0;34m(\u001b[0m\u001b[0;34m)\u001b[0m\u001b[0;34m,\u001b[0m \u001b[0mprefix\u001b[0m\u001b[0;34m,\u001b[0m \u001b[0mprefix_sep\u001b[0m\u001b[0;34m)\u001b[0m\u001b[0;34m:\u001b[0m\u001b[0;34m\u001b[0m\u001b[0;34m\u001b[0m\u001b[0m\n\u001b[1;32m    202\u001b[0m             \u001b[0;31m# col is (column_name, column), use just column data here\u001b[0m\u001b[0;34m\u001b[0m\u001b[0;34m\u001b[0m\u001b[0m\n\u001b[0;32m--> 203\u001b[0;31m             dummy = _get_dummies_1d(\n\u001b[0m\u001b[1;32m    204\u001b[0m                 \u001b[0mcol\u001b[0m\u001b[0;34m[\u001b[0m\u001b[0;36m1\u001b[0m\u001b[0;34m]\u001b[0m\u001b[0;34m,\u001b[0m\u001b[0;34m\u001b[0m\u001b[0;34m\u001b[0m\u001b[0m\n\u001b[1;32m    205\u001b[0m                 \u001b[0mprefix\u001b[0m\u001b[0;34m=\u001b[0m\u001b[0mpre\u001b[0m\u001b[0;34m,\u001b[0m\u001b[0;34m\u001b[0m\u001b[0;34m\u001b[0m\u001b[0m\n",
            "\u001b[0;32m/usr/local/lib/python3.10/dist-packages/pandas/core/reshape/encoding.py\u001b[0m in \u001b[0;36m_get_dummies_1d\u001b[0;34m(data, prefix, prefix_sep, dummy_na, sparse, drop_first, dtype)\u001b[0m\n\u001b[1;32m    237\u001b[0m \u001b[0;34m\u001b[0m\u001b[0m\n\u001b[1;32m    238\u001b[0m     \u001b[0;31m# Series avoids inconsistent NaN handling\u001b[0m\u001b[0;34m\u001b[0m\u001b[0;34m\u001b[0m\u001b[0m\n\u001b[0;32m--> 239\u001b[0;31m     \u001b[0mcodes\u001b[0m\u001b[0;34m,\u001b[0m \u001b[0mlevels\u001b[0m \u001b[0;34m=\u001b[0m \u001b[0mfactorize_from_iterable\u001b[0m\u001b[0;34m(\u001b[0m\u001b[0mSeries\u001b[0m\u001b[0;34m(\u001b[0m\u001b[0mdata\u001b[0m\u001b[0;34m,\u001b[0m \u001b[0mcopy\u001b[0m\u001b[0;34m=\u001b[0m\u001b[0;32mFalse\u001b[0m\u001b[0;34m)\u001b[0m\u001b[0;34m)\u001b[0m\u001b[0;34m\u001b[0m\u001b[0;34m\u001b[0m\u001b[0m\n\u001b[0m\u001b[1;32m    240\u001b[0m \u001b[0;34m\u001b[0m\u001b[0m\n\u001b[1;32m    241\u001b[0m     \u001b[0;32mif\u001b[0m \u001b[0mdtype\u001b[0m \u001b[0;32mis\u001b[0m \u001b[0;32mNone\u001b[0m\u001b[0;34m:\u001b[0m\u001b[0;34m\u001b[0m\u001b[0;34m\u001b[0m\u001b[0m\n",
            "\u001b[0;32m/usr/local/lib/python3.10/dist-packages/pandas/core/arrays/categorical.py\u001b[0m in \u001b[0;36mfactorize_from_iterable\u001b[0;34m(values)\u001b[0m\n\u001b[1;32m   2574\u001b[0m         \u001b[0;31m# but only the resulting categories, the order of which is independent\u001b[0m\u001b[0;34m\u001b[0m\u001b[0;34m\u001b[0m\u001b[0m\n\u001b[1;32m   2575\u001b[0m         \u001b[0;31m# from ordered. Set ordered to False as default. See GH #15457\u001b[0m\u001b[0;34m\u001b[0m\u001b[0;34m\u001b[0m\u001b[0m\n\u001b[0;32m-> 2576\u001b[0;31m         \u001b[0mcat\u001b[0m \u001b[0;34m=\u001b[0m \u001b[0mCategorical\u001b[0m\u001b[0;34m(\u001b[0m\u001b[0mvalues\u001b[0m\u001b[0;34m,\u001b[0m \u001b[0mordered\u001b[0m\u001b[0;34m=\u001b[0m\u001b[0;32mFalse\u001b[0m\u001b[0;34m)\u001b[0m\u001b[0;34m\u001b[0m\u001b[0;34m\u001b[0m\u001b[0m\n\u001b[0m\u001b[1;32m   2577\u001b[0m         \u001b[0mcategories\u001b[0m \u001b[0;34m=\u001b[0m \u001b[0mcat\u001b[0m\u001b[0;34m.\u001b[0m\u001b[0mcategories\u001b[0m\u001b[0;34m\u001b[0m\u001b[0;34m\u001b[0m\u001b[0m\n\u001b[1;32m   2578\u001b[0m         \u001b[0mcodes\u001b[0m \u001b[0;34m=\u001b[0m \u001b[0mcat\u001b[0m\u001b[0;34m.\u001b[0m\u001b[0mcodes\u001b[0m\u001b[0;34m\u001b[0m\u001b[0;34m\u001b[0m\u001b[0m\n",
            "\u001b[0;32m/usr/local/lib/python3.10/dist-packages/pandas/core/arrays/categorical.py\u001b[0m in \u001b[0;36m__init__\u001b[0;34m(self, values, categories, ordered, dtype, fastpath, copy)\u001b[0m\n\u001b[1;32m    436\u001b[0m \u001b[0;34m\u001b[0m\u001b[0m\n\u001b[1;32m    437\u001b[0m             \u001b[0;31m# we're inferring from values\u001b[0m\u001b[0;34m\u001b[0m\u001b[0;34m\u001b[0m\u001b[0m\n\u001b[0;32m--> 438\u001b[0;31m             \u001b[0mdtype\u001b[0m \u001b[0;34m=\u001b[0m \u001b[0mCategoricalDtype\u001b[0m\u001b[0;34m(\u001b[0m\u001b[0mcategories\u001b[0m\u001b[0;34m,\u001b[0m \u001b[0mdtype\u001b[0m\u001b[0;34m.\u001b[0m\u001b[0mordered\u001b[0m\u001b[0;34m)\u001b[0m\u001b[0;34m\u001b[0m\u001b[0;34m\u001b[0m\u001b[0m\n\u001b[0m\u001b[1;32m    439\u001b[0m \u001b[0;34m\u001b[0m\u001b[0m\n\u001b[1;32m    440\u001b[0m         \u001b[0;32melif\u001b[0m \u001b[0mis_categorical_dtype\u001b[0m\u001b[0;34m(\u001b[0m\u001b[0mvalues\u001b[0m\u001b[0;34m.\u001b[0m\u001b[0mdtype\u001b[0m\u001b[0;34m)\u001b[0m\u001b[0;34m:\u001b[0m\u001b[0;34m\u001b[0m\u001b[0;34m\u001b[0m\u001b[0m\n",
            "\u001b[0;32m/usr/local/lib/python3.10/dist-packages/pandas/core/dtypes/dtypes.py\u001b[0m in \u001b[0;36m__init__\u001b[0;34m(self, categories, ordered)\u001b[0m\n\u001b[1;32m    185\u001b[0m \u001b[0;34m\u001b[0m\u001b[0m\n\u001b[1;32m    186\u001b[0m     \u001b[0;32mdef\u001b[0m \u001b[0m__init__\u001b[0m\u001b[0;34m(\u001b[0m\u001b[0mself\u001b[0m\u001b[0;34m,\u001b[0m \u001b[0mcategories\u001b[0m\u001b[0;34m=\u001b[0m\u001b[0;32mNone\u001b[0m\u001b[0;34m,\u001b[0m \u001b[0mordered\u001b[0m\u001b[0;34m:\u001b[0m \u001b[0mOrdered\u001b[0m \u001b[0;34m=\u001b[0m \u001b[0;32mFalse\u001b[0m\u001b[0;34m)\u001b[0m \u001b[0;34m->\u001b[0m \u001b[0;32mNone\u001b[0m\u001b[0;34m:\u001b[0m\u001b[0;34m\u001b[0m\u001b[0;34m\u001b[0m\u001b[0m\n\u001b[0;32m--> 187\u001b[0;31m         \u001b[0mself\u001b[0m\u001b[0;34m.\u001b[0m\u001b[0m_finalize\u001b[0m\u001b[0;34m(\u001b[0m\u001b[0mcategories\u001b[0m\u001b[0;34m,\u001b[0m \u001b[0mordered\u001b[0m\u001b[0;34m,\u001b[0m \u001b[0mfastpath\u001b[0m\u001b[0;34m=\u001b[0m\u001b[0;32mFalse\u001b[0m\u001b[0;34m)\u001b[0m\u001b[0;34m\u001b[0m\u001b[0;34m\u001b[0m\u001b[0m\n\u001b[0m\u001b[1;32m    188\u001b[0m \u001b[0;34m\u001b[0m\u001b[0m\n\u001b[1;32m    189\u001b[0m     \u001b[0;34m@\u001b[0m\u001b[0mclassmethod\u001b[0m\u001b[0;34m\u001b[0m\u001b[0;34m\u001b[0m\u001b[0m\n",
            "\u001b[0;32m/usr/local/lib/python3.10/dist-packages/pandas/core/dtypes/dtypes.py\u001b[0m in \u001b[0;36m_finalize\u001b[0;34m(self, categories, ordered, fastpath)\u001b[0m\n\u001b[1;32m    342\u001b[0m \u001b[0;34m\u001b[0m\u001b[0m\n\u001b[1;32m    343\u001b[0m         \u001b[0;32mif\u001b[0m \u001b[0mcategories\u001b[0m \u001b[0;32mis\u001b[0m \u001b[0;32mnot\u001b[0m \u001b[0;32mNone\u001b[0m\u001b[0;34m:\u001b[0m\u001b[0;34m\u001b[0m\u001b[0;34m\u001b[0m\u001b[0m\n\u001b[0;32m--> 344\u001b[0;31m             \u001b[0mcategories\u001b[0m \u001b[0;34m=\u001b[0m \u001b[0mself\u001b[0m\u001b[0;34m.\u001b[0m\u001b[0mvalidate_categories\u001b[0m\u001b[0;34m(\u001b[0m\u001b[0mcategories\u001b[0m\u001b[0;34m,\u001b[0m \u001b[0mfastpath\u001b[0m\u001b[0;34m=\u001b[0m\u001b[0mfastpath\u001b[0m\u001b[0;34m)\u001b[0m\u001b[0;34m\u001b[0m\u001b[0;34m\u001b[0m\u001b[0m\n\u001b[0m\u001b[1;32m    345\u001b[0m \u001b[0;34m\u001b[0m\u001b[0m\n\u001b[1;32m    346\u001b[0m         \u001b[0mself\u001b[0m\u001b[0;34m.\u001b[0m\u001b[0m_categories\u001b[0m \u001b[0;34m=\u001b[0m \u001b[0mcategories\u001b[0m\u001b[0;34m\u001b[0m\u001b[0;34m\u001b[0m\u001b[0m\n",
            "\u001b[0;32m/usr/local/lib/python3.10/dist-packages/pandas/core/dtypes/dtypes.py\u001b[0m in \u001b[0;36mvalidate_categories\u001b[0;34m(categories, fastpath)\u001b[0m\n\u001b[1;32m    534\u001b[0m \u001b[0;34m\u001b[0m\u001b[0m\n\u001b[1;32m    535\u001b[0m         \u001b[0;32mif\u001b[0m \u001b[0;32mnot\u001b[0m \u001b[0mfastpath\u001b[0m\u001b[0;34m:\u001b[0m\u001b[0;34m\u001b[0m\u001b[0;34m\u001b[0m\u001b[0m\n\u001b[0;32m--> 536\u001b[0;31m             \u001b[0;32mif\u001b[0m \u001b[0mcategories\u001b[0m\u001b[0;34m.\u001b[0m\u001b[0mhasnans\u001b[0m\u001b[0;34m:\u001b[0m\u001b[0;34m\u001b[0m\u001b[0;34m\u001b[0m\u001b[0m\n\u001b[0m\u001b[1;32m    537\u001b[0m                 \u001b[0;32mraise\u001b[0m \u001b[0mValueError\u001b[0m\u001b[0;34m(\u001b[0m\u001b[0;34m\"Categorical categories cannot be null\"\u001b[0m\u001b[0;34m)\u001b[0m\u001b[0;34m\u001b[0m\u001b[0;34m\u001b[0m\u001b[0m\n\u001b[1;32m    538\u001b[0m \u001b[0;34m\u001b[0m\u001b[0m\n",
            "\u001b[0;32m/usr/local/lib/python3.10/dist-packages/pandas/_libs/properties.pyx\u001b[0m in \u001b[0;36mpandas._libs.properties.CachedProperty.__get__\u001b[0;34m()\u001b[0m\n",
            "\u001b[0;32m/usr/local/lib/python3.10/dist-packages/pandas/core/indexes/base.py\u001b[0m in \u001b[0;36mhasnans\u001b[0;34m(self)\u001b[0m\n\u001b[1;32m   2711\u001b[0m         \"\"\"\n\u001b[1;32m   2712\u001b[0m         \u001b[0;32mif\u001b[0m \u001b[0mself\u001b[0m\u001b[0;34m.\u001b[0m\u001b[0m_can_hold_na\u001b[0m\u001b[0;34m:\u001b[0m\u001b[0;34m\u001b[0m\u001b[0;34m\u001b[0m\u001b[0m\n\u001b[0;32m-> 2713\u001b[0;31m             \u001b[0;32mreturn\u001b[0m \u001b[0mbool\u001b[0m\u001b[0;34m(\u001b[0m\u001b[0mself\u001b[0m\u001b[0;34m.\u001b[0m\u001b[0m_isnan\u001b[0m\u001b[0;34m.\u001b[0m\u001b[0many\u001b[0m\u001b[0;34m(\u001b[0m\u001b[0;34m)\u001b[0m\u001b[0;34m)\u001b[0m\u001b[0;34m\u001b[0m\u001b[0;34m\u001b[0m\u001b[0m\n\u001b[0m\u001b[1;32m   2714\u001b[0m         \u001b[0;32melse\u001b[0m\u001b[0;34m:\u001b[0m\u001b[0;34m\u001b[0m\u001b[0;34m\u001b[0m\u001b[0m\n\u001b[1;32m   2715\u001b[0m             \u001b[0;32mreturn\u001b[0m \u001b[0;32mFalse\u001b[0m\u001b[0;34m\u001b[0m\u001b[0;34m\u001b[0m\u001b[0m\n",
            "\u001b[0;32m/usr/local/lib/python3.10/dist-packages/numpy/core/_methods.py\u001b[0m in \u001b[0;36m_any\u001b[0;34m(a, axis, dtype, out, keepdims, where)\u001b[0m\n\u001b[1;32m     56\u001b[0m     \u001b[0;31m# Parsing keyword arguments is currently fairly slow, so avoid it for now\u001b[0m\u001b[0;34m\u001b[0m\u001b[0;34m\u001b[0m\u001b[0m\n\u001b[1;32m     57\u001b[0m     \u001b[0;32mif\u001b[0m \u001b[0mwhere\u001b[0m \u001b[0;32mis\u001b[0m \u001b[0;32mTrue\u001b[0m\u001b[0;34m:\u001b[0m\u001b[0;34m\u001b[0m\u001b[0;34m\u001b[0m\u001b[0m\n\u001b[0;32m---> 58\u001b[0;31m         \u001b[0;32mreturn\u001b[0m \u001b[0mumr_any\u001b[0m\u001b[0;34m(\u001b[0m\u001b[0ma\u001b[0m\u001b[0;34m,\u001b[0m \u001b[0maxis\u001b[0m\u001b[0;34m,\u001b[0m \u001b[0mdtype\u001b[0m\u001b[0;34m,\u001b[0m \u001b[0mout\u001b[0m\u001b[0;34m,\u001b[0m \u001b[0mkeepdims\u001b[0m\u001b[0;34m)\u001b[0m\u001b[0;34m\u001b[0m\u001b[0;34m\u001b[0m\u001b[0m\n\u001b[0m\u001b[1;32m     59\u001b[0m     \u001b[0;32mreturn\u001b[0m \u001b[0mumr_any\u001b[0m\u001b[0;34m(\u001b[0m\u001b[0ma\u001b[0m\u001b[0;34m,\u001b[0m \u001b[0maxis\u001b[0m\u001b[0;34m,\u001b[0m \u001b[0mdtype\u001b[0m\u001b[0;34m,\u001b[0m \u001b[0mout\u001b[0m\u001b[0;34m,\u001b[0m \u001b[0mkeepdims\u001b[0m\u001b[0;34m,\u001b[0m \u001b[0mwhere\u001b[0m\u001b[0;34m=\u001b[0m\u001b[0mwhere\u001b[0m\u001b[0;34m)\u001b[0m\u001b[0;34m\u001b[0m\u001b[0;34m\u001b[0m\u001b[0m\n\u001b[1;32m     60\u001b[0m \u001b[0;34m\u001b[0m\u001b[0m\n",
            "\u001b[0;31mKeyboardInterrupt\u001b[0m: "
          ]
        }
      ],
      "source": [
        "# Process CSV files\n",
        "process_csv_files_from_zip(zip_file_path_drive, attack_files_path)"
      ]
    }
  ],
  "metadata": {
    "colab": {
      "provenance": []
    },
    "kernelspec": {
      "display_name": "Python 3",
      "name": "python3"
    },
    "language_info": {
      "name": "python"
    }
  },
  "nbformat": 4,
  "nbformat_minor": 0
}